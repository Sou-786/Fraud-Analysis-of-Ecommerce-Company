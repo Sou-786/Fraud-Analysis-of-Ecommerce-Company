{
  "nbformat": 4,
  "nbformat_minor": 0,
  "metadata": {
    "colab": {
      "name": "Cointab.ipynb",
      "provenance": []
    },
    "kernelspec": {
      "name": "python3",
      "display_name": "Python 3"
    },
    "language_info": {
      "name": "python"
    }
  },
  "cells": [
    {
      "cell_type": "markdown",
      "metadata": {
        "id": "mf0TxohfJtKY"
      },
      "source": [
        "## Business Scenario\n",
        "\n",
        "You are a data analyst and have a large ecommerce company in India (let’s call it X) as a client.\n",
        "X gets a few thousand orders via their website on a daily basis and they have to deliver them as\n",
        "fast as they can. For delivering the goods ordered by the customers, X has tied up with multiple\n",
        "courier companies in India who charge them some amount per delivery.\n",
        "The charges are dependent upon two factors:\n",
        "● Weight of the product\n",
        "● Distance between the warehouse (pickup location) and customer’s delivery address\n",
        "(destination location)\n",
        "On an average, the delivery charges are Rs. 100 per shipment. So if X ships 1,00,000 orders\n",
        "per month, they have to pay approximately Rs. 1 crore to the courier companies on a monthly\n",
        "basis as charges.\n",
        "As the amount that X has to pay to the courier companies is very high, they want to verify if the\n",
        "charges levied by their partners per Order are correct."
      ]
    },
    {
      "cell_type": "code",
      "metadata": {
        "id": "yDzF4jSpBZNQ"
      },
      "source": [
        "#import necessary libraries\n",
        "import pandas as pd\n",
        "import numpy as np"
      ],
      "execution_count": 1,
      "outputs": []
    },
    {
      "cell_type": "code",
      "metadata": {
        "id": "Os5sXhGiB3l1"
      },
      "source": [
        "#load datasets\n",
        "df_Order = pd.read_excel('/content/drive/MyDrive/Cointab Data Analyst - Challenge/Company X - Order Report.xlsx')\n",
        "df_pin = pd.read_excel('/content/drive/MyDrive/Cointab Data Analyst - Challenge/Company X - Pincode Zones.xlsx')\n",
        "df_sku = pd.read_excel('/content/drive/MyDrive/Cointab Data Analyst - Challenge/Company X - SKU Master.xlsx')\n",
        "\n",
        "dfc_Invoice = pd.read_excel('/content/drive/MyDrive/Cointab Data Analyst - Challenge/Courier Company - Invoice.xlsx')\n",
        "dfc_rate= pd.read_excel('/content/drive/MyDrive/Cointab Data Analyst - Challenge/Courier Company - Rates.xlsx')\n",
        "dfc_result = pd.read_excel('/content/drive/MyDrive/Cointab Data Analyst - Challenge/Expected_Result.xlsx')"
      ],
      "execution_count": 2,
      "outputs": []
    },
    {
      "cell_type": "code",
      "metadata": {
        "colab": {
          "base_uri": "https://localhost:8080/",
          "height": 206
        },
        "id": "QU6Sn81zMIJM",
        "outputId": "2c3b23f0-1330-43d4-a529-276ef3bbadbe"
      },
      "source": [
        "#merge company x data\n",
        "df = df_Order.merge(df_sku,on='SKU')\n",
        "#calculate total wt of X data\n",
        "df['Total weight'] = df['Order Qty']* df['Weight (g)']\n",
        "#rename columns\n",
        "df = df.rename(columns={\"ExternOrderNo\": \"Order ID\",\"Weight (g)\": \"Weight_slab_X\", \"Total weight\": \"Total_weight_X\" })\n",
        "df.head()"
      ],
      "execution_count": 3,
      "outputs": [
        {
          "output_type": "execute_result",
          "data": {
            "text/html": [
              "<div>\n",
              "<style scoped>\n",
              "    .dataframe tbody tr th:only-of-type {\n",
              "        vertical-align: middle;\n",
              "    }\n",
              "\n",
              "    .dataframe tbody tr th {\n",
              "        vertical-align: top;\n",
              "    }\n",
              "\n",
              "    .dataframe thead th {\n",
              "        text-align: right;\n",
              "    }\n",
              "</style>\n",
              "<table border=\"1\" class=\"dataframe\">\n",
              "  <thead>\n",
              "    <tr style=\"text-align: right;\">\n",
              "      <th></th>\n",
              "      <th>Order ID</th>\n",
              "      <th>SKU</th>\n",
              "      <th>Order Qty</th>\n",
              "      <th>Weight_slab_X</th>\n",
              "      <th>Total_weight_X</th>\n",
              "    </tr>\n",
              "  </thead>\n",
              "  <tbody>\n",
              "    <tr>\n",
              "      <th>0</th>\n",
              "      <td>2001827036</td>\n",
              "      <td>8904223818706</td>\n",
              "      <td>1.0</td>\n",
              "      <td>127</td>\n",
              "      <td>127.0</td>\n",
              "    </tr>\n",
              "    <tr>\n",
              "      <th>1</th>\n",
              "      <td>2001821995</td>\n",
              "      <td>8904223818706</td>\n",
              "      <td>1.0</td>\n",
              "      <td>127</td>\n",
              "      <td>127.0</td>\n",
              "    </tr>\n",
              "    <tr>\n",
              "      <th>2</th>\n",
              "      <td>2001819252</td>\n",
              "      <td>8904223818706</td>\n",
              "      <td>1.0</td>\n",
              "      <td>127</td>\n",
              "      <td>127.0</td>\n",
              "    </tr>\n",
              "    <tr>\n",
              "      <th>3</th>\n",
              "      <td>2001816996</td>\n",
              "      <td>8904223818706</td>\n",
              "      <td>1.0</td>\n",
              "      <td>127</td>\n",
              "      <td>127.0</td>\n",
              "    </tr>\n",
              "    <tr>\n",
              "      <th>4</th>\n",
              "      <td>2001814580</td>\n",
              "      <td>8904223818706</td>\n",
              "      <td>1.0</td>\n",
              "      <td>127</td>\n",
              "      <td>127.0</td>\n",
              "    </tr>\n",
              "  </tbody>\n",
              "</table>\n",
              "</div>"
            ],
            "text/plain": [
              "     Order ID            SKU  Order Qty  Weight_slab_X  Total_weight_X\n",
              "0  2001827036  8904223818706        1.0            127           127.0\n",
              "1  2001821995  8904223818706        1.0            127           127.0\n",
              "2  2001819252  8904223818706        1.0            127           127.0\n",
              "3  2001816996  8904223818706        1.0            127           127.0\n",
              "4  2001814580  8904223818706        1.0            127           127.0"
            ]
          },
          "metadata": {},
          "execution_count": 3
        }
      ]
    },
    {
      "cell_type": "code",
      "metadata": {
        "colab": {
          "base_uri": "https://localhost:8080/",
          "height": 300
        },
        "id": "ZlF3e-PYDFYX",
        "outputId": "7691fdaa-322c-45b7-e18f-3b30a7158ba3"
      },
      "source": [
        "df.describe()"
      ],
      "execution_count": 4,
      "outputs": [
        {
          "output_type": "execute_result",
          "data": {
            "text/html": [
              "<div>\n",
              "<style scoped>\n",
              "    .dataframe tbody tr th:only-of-type {\n",
              "        vertical-align: middle;\n",
              "    }\n",
              "\n",
              "    .dataframe tbody tr th {\n",
              "        vertical-align: top;\n",
              "    }\n",
              "\n",
              "    .dataframe thead th {\n",
              "        text-align: right;\n",
              "    }\n",
              "</style>\n",
              "<table border=\"1\" class=\"dataframe\">\n",
              "  <thead>\n",
              "    <tr style=\"text-align: right;\">\n",
              "      <th></th>\n",
              "      <th>Order ID</th>\n",
              "      <th>Order Qty</th>\n",
              "      <th>Weight_slab_X</th>\n",
              "      <th>Total_weight_X</th>\n",
              "    </tr>\n",
              "  </thead>\n",
              "  <tbody>\n",
              "    <tr>\n",
              "      <th>count</th>\n",
              "      <td>4.010000e+02</td>\n",
              "      <td>401.000000</td>\n",
              "      <td>401.000000</td>\n",
              "      <td>401.000000</td>\n",
              "    </tr>\n",
              "    <tr>\n",
              "      <th>mean</th>\n",
              "      <td>2.001811e+09</td>\n",
              "      <td>1.296758</td>\n",
              "      <td>181.566085</td>\n",
              "      <td>220.638404</td>\n",
              "    </tr>\n",
              "    <tr>\n",
              "      <th>std</th>\n",
              "      <td>5.244070e+03</td>\n",
              "      <td>0.918811</td>\n",
              "      <td>92.583321</td>\n",
              "      <td>140.609891</td>\n",
              "    </tr>\n",
              "    <tr>\n",
              "      <th>min</th>\n",
              "      <td>2.001806e+09</td>\n",
              "      <td>1.000000</td>\n",
              "      <td>10.000000</td>\n",
              "      <td>10.000000</td>\n",
              "    </tr>\n",
              "    <tr>\n",
              "      <th>25%</th>\n",
              "      <td>2.001807e+09</td>\n",
              "      <td>1.000000</td>\n",
              "      <td>121.000000</td>\n",
              "      <td>127.000000</td>\n",
              "    </tr>\n",
              "    <tr>\n",
              "      <th>50%</th>\n",
              "      <td>2.001809e+09</td>\n",
              "      <td>1.000000</td>\n",
              "      <td>133.000000</td>\n",
              "      <td>210.000000</td>\n",
              "    </tr>\n",
              "    <tr>\n",
              "      <th>75%</th>\n",
              "      <td>2.001812e+09</td>\n",
              "      <td>1.000000</td>\n",
              "      <td>240.000000</td>\n",
              "      <td>240.000000</td>\n",
              "    </tr>\n",
              "    <tr>\n",
              "      <th>max</th>\n",
              "      <td>2.001827e+09</td>\n",
              "      <td>8.000000</td>\n",
              "      <td>600.000000</td>\n",
              "      <td>1104.000000</td>\n",
              "    </tr>\n",
              "  </tbody>\n",
              "</table>\n",
              "</div>"
            ],
            "text/plain": [
              "           Order ID   Order Qty  Weight_slab_X  Total_weight_X\n",
              "count  4.010000e+02  401.000000     401.000000      401.000000\n",
              "mean   2.001811e+09    1.296758     181.566085      220.638404\n",
              "std    5.244070e+03    0.918811      92.583321      140.609891\n",
              "min    2.001806e+09    1.000000      10.000000       10.000000\n",
              "25%    2.001807e+09    1.000000     121.000000      127.000000\n",
              "50%    2.001809e+09    1.000000     133.000000      210.000000\n",
              "75%    2.001812e+09    1.000000     240.000000      240.000000\n",
              "max    2.001827e+09    8.000000     600.000000     1104.000000"
            ]
          },
          "metadata": {},
          "execution_count": 4
        }
      ]
    },
    {
      "cell_type": "code",
      "metadata": {
        "colab": {
          "base_uri": "https://localhost:8080/",
          "height": 327
        },
        "id": "Sai6rsazfXL8",
        "outputId": "3a825b2d-5117-49ff-b765-b9f30651ba7b"
      },
      "source": [
        "#merge courier invoice and X company data\n",
        "df_M = dfc_Invoice.merge(df,on='Order ID')\n",
        "df_M.head()"
      ],
      "execution_count": 5,
      "outputs": [
        {
          "output_type": "execute_result",
          "data": {
            "text/html": [
              "<div>\n",
              "<style scoped>\n",
              "    .dataframe tbody tr th:only-of-type {\n",
              "        vertical-align: middle;\n",
              "    }\n",
              "\n",
              "    .dataframe tbody tr th {\n",
              "        vertical-align: top;\n",
              "    }\n",
              "\n",
              "    .dataframe thead th {\n",
              "        text-align: right;\n",
              "    }\n",
              "</style>\n",
              "<table border=\"1\" class=\"dataframe\">\n",
              "  <thead>\n",
              "    <tr style=\"text-align: right;\">\n",
              "      <th></th>\n",
              "      <th>AWB Code</th>\n",
              "      <th>Order ID</th>\n",
              "      <th>Charged Weight</th>\n",
              "      <th>Warehouse Pincode</th>\n",
              "      <th>Customer Pincode</th>\n",
              "      <th>Zone</th>\n",
              "      <th>Type of Shipment</th>\n",
              "      <th>Billing Amount (Rs.)</th>\n",
              "      <th>SKU</th>\n",
              "      <th>Order Qty</th>\n",
              "      <th>Weight_slab_X</th>\n",
              "      <th>Total_weight_X</th>\n",
              "    </tr>\n",
              "  </thead>\n",
              "  <tbody>\n",
              "    <tr>\n",
              "      <th>0</th>\n",
              "      <td>1091117222124</td>\n",
              "      <td>2001806232</td>\n",
              "      <td>1.3</td>\n",
              "      <td>121003</td>\n",
              "      <td>507101</td>\n",
              "      <td>d</td>\n",
              "      <td>Forward charges</td>\n",
              "      <td>135.0</td>\n",
              "      <td>8904223819147</td>\n",
              "      <td>2.0</td>\n",
              "      <td>240</td>\n",
              "      <td>480.0</td>\n",
              "    </tr>\n",
              "    <tr>\n",
              "      <th>1</th>\n",
              "      <td>1091117222124</td>\n",
              "      <td>2001806232</td>\n",
              "      <td>1.3</td>\n",
              "      <td>121003</td>\n",
              "      <td>507101</td>\n",
              "      <td>d</td>\n",
              "      <td>Forward charges</td>\n",
              "      <td>135.0</td>\n",
              "      <td>8904223818645</td>\n",
              "      <td>6.0</td>\n",
              "      <td>137</td>\n",
              "      <td>822.0</td>\n",
              "    </tr>\n",
              "    <tr>\n",
              "      <th>2</th>\n",
              "      <td>1091117222194</td>\n",
              "      <td>2001806273</td>\n",
              "      <td>1.0</td>\n",
              "      <td>121003</td>\n",
              "      <td>486886</td>\n",
              "      <td>d</td>\n",
              "      <td>Forward charges</td>\n",
              "      <td>90.2</td>\n",
              "      <td>8904223818706</td>\n",
              "      <td>1.0</td>\n",
              "      <td>127</td>\n",
              "      <td>127.0</td>\n",
              "    </tr>\n",
              "    <tr>\n",
              "      <th>3</th>\n",
              "      <td>1091117222194</td>\n",
              "      <td>2001806273</td>\n",
              "      <td>1.0</td>\n",
              "      <td>121003</td>\n",
              "      <td>486886</td>\n",
              "      <td>d</td>\n",
              "      <td>Forward charges</td>\n",
              "      <td>90.2</td>\n",
              "      <td>8904223818850</td>\n",
              "      <td>1.0</td>\n",
              "      <td>240</td>\n",
              "      <td>240.0</td>\n",
              "    </tr>\n",
              "    <tr>\n",
              "      <th>4</th>\n",
              "      <td>1091117222194</td>\n",
              "      <td>2001806273</td>\n",
              "      <td>1.0</td>\n",
              "      <td>121003</td>\n",
              "      <td>486886</td>\n",
              "      <td>d</td>\n",
              "      <td>Forward charges</td>\n",
              "      <td>90.2</td>\n",
              "      <td>8904223818942</td>\n",
              "      <td>1.0</td>\n",
              "      <td>133</td>\n",
              "      <td>133.0</td>\n",
              "    </tr>\n",
              "  </tbody>\n",
              "</table>\n",
              "</div>"
            ],
            "text/plain": [
              "        AWB Code    Order ID  ...  Weight_slab_X  Total_weight_X\n",
              "0  1091117222124  2001806232  ...            240           480.0\n",
              "1  1091117222124  2001806232  ...            137           822.0\n",
              "2  1091117222194  2001806273  ...            127           127.0\n",
              "3  1091117222194  2001806273  ...            240           240.0\n",
              "4  1091117222194  2001806273  ...            133           133.0\n",
              "\n",
              "[5 rows x 12 columns]"
            ]
          },
          "metadata": {},
          "execution_count": 5
        }
      ]
    },
    {
      "cell_type": "code",
      "metadata": {
        "id": "JvNPROmjiXRT"
      },
      "source": [
        "#clean pin_x company X data and merge\n",
        "df_pin = df_pin.drop(['Warehouse Pincode'],axis = 1)\n",
        "df_pin = df_pin.rename(columns ={\"Zone\":\"Zone_X\"})\n",
        "df_M = df_M.merge(df_pin,on='Customer Pincode')\n",
        "df_M = df_M.drop(['Warehouse Pincode'], axis=1)"
      ],
      "execution_count": 6,
      "outputs": []
    },
    {
      "cell_type": "code",
      "metadata": {
        "colab": {
          "base_uri": "https://localhost:8080/",
          "height": 327
        },
        "id": "62regocBnrPz",
        "outputId": "2e6beeb8-beac-4bfe-a988-f72f69fb74d5"
      },
      "source": [
        "# create a list of our conditions\n",
        "conditions = [\n",
        "    (df_M['Total_weight_X'] >= 10) & (df_M['Total_weight_X'] <= 500),\n",
        "    (df_M['Total_weight_X'] > 500) & (df_M['Total_weight_X'] <= 1000),\n",
        "    (df_M['Total_weight_X'] > 1000) & (df_M['Total_weight_X'] <= 1500)\n",
        "    ]\n",
        "\n",
        "# create a list of the values we want to assign for each condition\n",
        "values = ['0.5', '1', '1.5']\n",
        "\n",
        "# create a new column and use np.select to assign values to it using our lists as arguments\n",
        "df_M['slab'] = np.select(conditions, values)\n",
        "\n",
        "# display updated DataFrame\n",
        "df_M.head()\n"
      ],
      "execution_count": 7,
      "outputs": [
        {
          "output_type": "execute_result",
          "data": {
            "text/html": [
              "<div>\n",
              "<style scoped>\n",
              "    .dataframe tbody tr th:only-of-type {\n",
              "        vertical-align: middle;\n",
              "    }\n",
              "\n",
              "    .dataframe tbody tr th {\n",
              "        vertical-align: top;\n",
              "    }\n",
              "\n",
              "    .dataframe thead th {\n",
              "        text-align: right;\n",
              "    }\n",
              "</style>\n",
              "<table border=\"1\" class=\"dataframe\">\n",
              "  <thead>\n",
              "    <tr style=\"text-align: right;\">\n",
              "      <th></th>\n",
              "      <th>AWB Code</th>\n",
              "      <th>Order ID</th>\n",
              "      <th>Charged Weight</th>\n",
              "      <th>Customer Pincode</th>\n",
              "      <th>Zone</th>\n",
              "      <th>Type of Shipment</th>\n",
              "      <th>Billing Amount (Rs.)</th>\n",
              "      <th>SKU</th>\n",
              "      <th>Order Qty</th>\n",
              "      <th>Weight_slab_X</th>\n",
              "      <th>Total_weight_X</th>\n",
              "      <th>Zone_X</th>\n",
              "      <th>slab</th>\n",
              "    </tr>\n",
              "  </thead>\n",
              "  <tbody>\n",
              "    <tr>\n",
              "      <th>0</th>\n",
              "      <td>1091117222124</td>\n",
              "      <td>2001806232</td>\n",
              "      <td>1.3</td>\n",
              "      <td>507101</td>\n",
              "      <td>d</td>\n",
              "      <td>Forward charges</td>\n",
              "      <td>135.0</td>\n",
              "      <td>8904223819147</td>\n",
              "      <td>2.0</td>\n",
              "      <td>240</td>\n",
              "      <td>480.0</td>\n",
              "      <td>d</td>\n",
              "      <td>0.5</td>\n",
              "    </tr>\n",
              "    <tr>\n",
              "      <th>1</th>\n",
              "      <td>1091117222124</td>\n",
              "      <td>2001806232</td>\n",
              "      <td>1.3</td>\n",
              "      <td>507101</td>\n",
              "      <td>d</td>\n",
              "      <td>Forward charges</td>\n",
              "      <td>135.0</td>\n",
              "      <td>8904223818645</td>\n",
              "      <td>6.0</td>\n",
              "      <td>137</td>\n",
              "      <td>822.0</td>\n",
              "      <td>d</td>\n",
              "      <td>1</td>\n",
              "    </tr>\n",
              "    <tr>\n",
              "      <th>2</th>\n",
              "      <td>1091117222194</td>\n",
              "      <td>2001806273</td>\n",
              "      <td>1.0</td>\n",
              "      <td>486886</td>\n",
              "      <td>d</td>\n",
              "      <td>Forward charges</td>\n",
              "      <td>90.2</td>\n",
              "      <td>8904223818706</td>\n",
              "      <td>1.0</td>\n",
              "      <td>127</td>\n",
              "      <td>127.0</td>\n",
              "      <td>d</td>\n",
              "      <td>0.5</td>\n",
              "    </tr>\n",
              "    <tr>\n",
              "      <th>3</th>\n",
              "      <td>1091117222194</td>\n",
              "      <td>2001806273</td>\n",
              "      <td>1.0</td>\n",
              "      <td>486886</td>\n",
              "      <td>d</td>\n",
              "      <td>Forward charges</td>\n",
              "      <td>90.2</td>\n",
              "      <td>8904223818850</td>\n",
              "      <td>1.0</td>\n",
              "      <td>240</td>\n",
              "      <td>240.0</td>\n",
              "      <td>d</td>\n",
              "      <td>0.5</td>\n",
              "    </tr>\n",
              "    <tr>\n",
              "      <th>4</th>\n",
              "      <td>1091117222194</td>\n",
              "      <td>2001806273</td>\n",
              "      <td>1.0</td>\n",
              "      <td>486886</td>\n",
              "      <td>d</td>\n",
              "      <td>Forward charges</td>\n",
              "      <td>90.2</td>\n",
              "      <td>8904223818942</td>\n",
              "      <td>1.0</td>\n",
              "      <td>133</td>\n",
              "      <td>133.0</td>\n",
              "      <td>d</td>\n",
              "      <td>0.5</td>\n",
              "    </tr>\n",
              "  </tbody>\n",
              "</table>\n",
              "</div>"
            ],
            "text/plain": [
              "        AWB Code    Order ID  Charged Weight  ...  Total_weight_X Zone_X slab\n",
              "0  1091117222124  2001806232             1.3  ...           480.0      d  0.5\n",
              "1  1091117222124  2001806232             1.3  ...           822.0      d    1\n",
              "2  1091117222194  2001806273             1.0  ...           127.0      d  0.5\n",
              "3  1091117222194  2001806273             1.0  ...           240.0      d  0.5\n",
              "4  1091117222194  2001806273             1.0  ...           133.0      d  0.5\n",
              "\n",
              "[5 rows x 13 columns]"
            ]
          },
          "metadata": {},
          "execution_count": 7
        }
      ]
    },
    {
      "cell_type": "code",
      "metadata": {
        "id": "ZsJRhFIrZRGw"
      },
      "source": [
        "#convert slab to numeric\n",
        "df_M['slab']= pd.to_numeric(df_M['slab'])"
      ],
      "execution_count": 8,
      "outputs": []
    },
    {
      "cell_type": "markdown",
      "metadata": {
        "id": "5KMl-PvjJcIf"
      },
      "source": [
        "If the invoice mentions\n",
        "“Forward charges” then only forward charges (“fwd”) should be applicable as per zone\n",
        "and fixed & additional weights based on weight slabs. If the invoice mentions “Forward\n",
        "and rto charges” then forward charges (“fwd”) and RTO charges (“rto”) should be\n",
        "applicable as per zone and fixed & additional weights based on weight slabs."
      ]
    },
    {
      "cell_type": "markdown",
      "metadata": {
        "id": "iFhtGJgPJeUv"
      },
      "source": [
        "For the first 0.5 KG, “fixed” rate as per the slab is applicable. For each additional 0.5 KG,\n",
        "“additional” weight in the same proportion is applicable. Total charges will be “fixed” +\n",
        "“total additional” if any"
      ]
    },
    {
      "cell_type": "code",
      "metadata": {
        "id": "Ur_3CGNmtt1a"
      },
      "source": [
        "conditions = [\n",
        "    (df_M['Type of Shipment'] == 'Forward charges') & (df_M['Zone_X'] == 'b') & (df_M['slab'] == 0.5),\n",
        "    (df_M['Type of Shipment'] == 'Forward charges') & (df_M['Zone_X'] == 'd') & (df_M['slab'] == 0.5),\n",
        "    (df_M['Type of Shipment'] == 'Forward charges') & (df_M['Zone_X'] == 'e') & (df_M['slab'] == 0.5),\n",
        "    (df_M['Type of Shipment'] == 'Forward charges') & (df_M['Zone_X'] == 'b') & (df_M['slab'] == 1),\n",
        "    (df_M['Type of Shipment'] == 'Forward charges') & (df_M['Zone_X'] == 'd') & (df_M['slab'] == 1),\n",
        "    (df_M['Type of Shipment'] == 'Forward charges') & (df_M['Zone_X'] == 'e') & (df_M['slab'] == 1),\n",
        "    (df_M['Type of Shipment'] == 'Forward charges') & (df_M['Zone_X'] == 'b') & (df_M['slab'] == 1.5),\n",
        "    (df_M['Type of Shipment'] == 'Forward charges') & (df_M['Zone_X'] == 'd') & (df_M['slab'] == 1.5),\n",
        "    (df_M['Type of Shipment'] == 'Forward charges') & (df_M['Zone_X'] == 'e') & (df_M['slab'] == 1.5),\n",
        "    (df_M['Type of Shipment'] == 'Forward and RTO charges') & (df_M['Zone_X'] == 'b') & (df_M['slab'] == 0.5),\n",
        "    (df_M['Type of Shipment'] == 'Forward and RTO charges') & (df_M['Zone_X'] == 'd') & (df_M['slab'] == 0.5),\n",
        "    (df_M['Type of Shipment'] == 'Forward and RTO charges') & (df_M['Zone_X'] == 'e') & (df_M['slab'] == 0.5),\n",
        "    (df_M['Type of Shipment'] == 'Forward and RTO charges') & (df_M['Zone_X'] == 'b') & (df_M['slab'] == 1),\n",
        "    (df_M['Type of Shipment'] == 'Forward and RTO charges') & (df_M['Zone_X'] == 'd') & (df_M['slab'] == 1),\n",
        "    (df_M['Type of Shipment'] == 'Forward and RTO charges') & (df_M['Zone_X'] == 'e') & (df_M['slab'] == 1),\n",
        "    (df_M['Type of Shipment'] == 'Forward and RTO charges') & (df_M['Zone_X'] == 'b') & (df_M['slab'] == 1.5),\n",
        "    (df_M['Type of Shipment'] == 'Forward and RTO charges') & (df_M['Zone_X'] == 'd') & (df_M['slab'] == 1.5),\n",
        "    (df_M['Type of Shipment'] == 'Forward and RTO charges') & (df_M['Zone_X'] == 'e') & (df_M['slab'] == 1.5)]\n",
        "    \n",
        "\n",
        "\n",
        "\n",
        "# create a list of the values we want to assign for each condition\n",
        "values = ['33', '45.4', '56.6','61.3', '90.2', '112.1', '89.6', '135', '112.1', '20.5', '41.3', '50.7', '48.8', '86.1', '106.2', '77.1', '130.9', '161.7']   \n",
        "\n",
        "# create a new column and use np.select to assign values to it using our lists as arguments\n",
        "df_M['Charges_X'] = np.select(conditions, values)"
      ],
      "execution_count": 9,
      "outputs": []
    },
    {
      "cell_type": "code",
      "metadata": {
        "id": "foyPNU6yi2qn"
      },
      "source": [
        "#convert gm to KG\n",
        "df_M['Total weight as per X (KG)'] = df_M['Total_weight_X']/1000\n",
        "df_M['Weight slab as per X (KG)'] = df_M['Weight_slab_X']/1000"
      ],
      "execution_count": 10,
      "outputs": []
    },
    {
      "cell_type": "code",
      "metadata": {
        "id": "CyKQY_8icVsz"
      },
      "source": [
        "#rename columns as per instructions\n",
        "df_M = df_M.rename(columns={\"Charged Weight\":\"Weight slab charged by Courier Company (KG)\", \"Zone\":\"Delivery Zone charged by Courier Company\", \"Zone_X\":\"Delivery Zone as per X\", \"Billing Amount (Rs.)\":\"Charges Billed by Courier Company (Rs.)\", \"Charges_X\":\"Expected Charge as per X (Rs.)\", \"AWB Code\":\"AWB Number\"})"
      ],
      "execution_count": 11,
      "outputs": []
    },
    {
      "cell_type": "code",
      "metadata": {
        "id": "kWRczTn0mtGZ"
      },
      "source": [
        "#Total weight courier company\n",
        "df_M['Total weight as per Courier Company (KG)'] = df_M['Order Qty']* df_M['Weight slab charged by Courier Company (KG)']"
      ],
      "execution_count": 12,
      "outputs": []
    },
    {
      "cell_type": "code",
      "metadata": {
        "id": "GETk87_rnTLp"
      },
      "source": [
        "#select only required columns\n",
        "df_New = df_M[[\"Order ID\",  \"AWB Number\", \"Total weight as per X (KG)\", \"Weight slab as per X (KG)\", \"Total weight as per Courier Company (KG)\", \"Weight slab charged by Courier Company (KG)\", \"Delivery Zone as per X\", \"Delivery Zone charged by Courier Company\", \"Expected Charge as per X (Rs.)\", \"Charges Billed by Courier Company (Rs.)\"]]"
      ],
      "execution_count": 13,
      "outputs": []
    },
    {
      "cell_type": "code",
      "metadata": {
        "colab": {
          "base_uri": "https://localhost:8080/",
          "height": 258
        },
        "id": "KA3deohNqfO3",
        "outputId": "a069fb2a-5b71-443d-97c4-d53abeb686a8"
      },
      "source": [
        "df_New.head()"
      ],
      "execution_count": 14,
      "outputs": [
        {
          "output_type": "execute_result",
          "data": {
            "text/html": [
              "<div>\n",
              "<style scoped>\n",
              "    .dataframe tbody tr th:only-of-type {\n",
              "        vertical-align: middle;\n",
              "    }\n",
              "\n",
              "    .dataframe tbody tr th {\n",
              "        vertical-align: top;\n",
              "    }\n",
              "\n",
              "    .dataframe thead th {\n",
              "        text-align: right;\n",
              "    }\n",
              "</style>\n",
              "<table border=\"1\" class=\"dataframe\">\n",
              "  <thead>\n",
              "    <tr style=\"text-align: right;\">\n",
              "      <th></th>\n",
              "      <th>Order ID</th>\n",
              "      <th>AWB Number</th>\n",
              "      <th>Total weight as per X (KG)</th>\n",
              "      <th>Weight slab as per X (KG)</th>\n",
              "      <th>Total weight as per Courier Company (KG)</th>\n",
              "      <th>Weight slab charged by Courier Company (KG)</th>\n",
              "      <th>Delivery Zone as per X</th>\n",
              "      <th>Delivery Zone charged by Courier Company</th>\n",
              "      <th>Expected Charge as per X (Rs.)</th>\n",
              "      <th>Charges Billed by Courier Company (Rs.)</th>\n",
              "    </tr>\n",
              "  </thead>\n",
              "  <tbody>\n",
              "    <tr>\n",
              "      <th>0</th>\n",
              "      <td>2001806232</td>\n",
              "      <td>1091117222124</td>\n",
              "      <td>0.480</td>\n",
              "      <td>0.240</td>\n",
              "      <td>2.6</td>\n",
              "      <td>1.3</td>\n",
              "      <td>d</td>\n",
              "      <td>d</td>\n",
              "      <td>45.4</td>\n",
              "      <td>135.0</td>\n",
              "    </tr>\n",
              "    <tr>\n",
              "      <th>1</th>\n",
              "      <td>2001806232</td>\n",
              "      <td>1091117222124</td>\n",
              "      <td>0.822</td>\n",
              "      <td>0.137</td>\n",
              "      <td>7.8</td>\n",
              "      <td>1.3</td>\n",
              "      <td>d</td>\n",
              "      <td>d</td>\n",
              "      <td>90.2</td>\n",
              "      <td>135.0</td>\n",
              "    </tr>\n",
              "    <tr>\n",
              "      <th>2</th>\n",
              "      <td>2001806273</td>\n",
              "      <td>1091117222194</td>\n",
              "      <td>0.127</td>\n",
              "      <td>0.127</td>\n",
              "      <td>1.0</td>\n",
              "      <td>1.0</td>\n",
              "      <td>d</td>\n",
              "      <td>d</td>\n",
              "      <td>45.4</td>\n",
              "      <td>90.2</td>\n",
              "    </tr>\n",
              "    <tr>\n",
              "      <th>3</th>\n",
              "      <td>2001806273</td>\n",
              "      <td>1091117222194</td>\n",
              "      <td>0.240</td>\n",
              "      <td>0.240</td>\n",
              "      <td>1.0</td>\n",
              "      <td>1.0</td>\n",
              "      <td>d</td>\n",
              "      <td>d</td>\n",
              "      <td>45.4</td>\n",
              "      <td>90.2</td>\n",
              "    </tr>\n",
              "    <tr>\n",
              "      <th>4</th>\n",
              "      <td>2001806273</td>\n",
              "      <td>1091117222194</td>\n",
              "      <td>0.133</td>\n",
              "      <td>0.133</td>\n",
              "      <td>1.0</td>\n",
              "      <td>1.0</td>\n",
              "      <td>d</td>\n",
              "      <td>d</td>\n",
              "      <td>45.4</td>\n",
              "      <td>90.2</td>\n",
              "    </tr>\n",
              "  </tbody>\n",
              "</table>\n",
              "</div>"
            ],
            "text/plain": [
              "     Order ID  ...  Charges Billed by Courier Company (Rs.)\n",
              "0  2001806232  ...                                    135.0\n",
              "1  2001806232  ...                                    135.0\n",
              "2  2001806273  ...                                     90.2\n",
              "3  2001806273  ...                                     90.2\n",
              "4  2001806273  ...                                     90.2\n",
              "\n",
              "[5 rows x 10 columns]"
            ]
          },
          "metadata": {},
          "execution_count": 14
        }
      ]
    },
    {
      "cell_type": "code",
      "metadata": {
        "colab": {
          "base_uri": "https://localhost:8080/"
        },
        "id": "MDTihLINtKWx",
        "outputId": "395bf795-b064-4465-a987-2c15c781433f"
      },
      "source": [
        "#convert to neumeric\n",
        "df_New['Expected Charge as per X (Rs.)']= pd.to_numeric(df_New['Expected Charge as per X (Rs.)'])"
      ],
      "execution_count": 15,
      "outputs": [
        {
          "output_type": "stream",
          "name": "stderr",
          "text": [
            "/usr/local/lib/python3.7/dist-packages/ipykernel_launcher.py:2: SettingWithCopyWarning: \n",
            "A value is trying to be set on a copy of a slice from a DataFrame.\n",
            "Try using .loc[row_indexer,col_indexer] = value instead\n",
            "\n",
            "See the caveats in the documentation: https://pandas.pydata.org/pandas-docs/stable/user_guide/indexing.html#returning-a-view-versus-a-copy\n",
            "  \n"
          ]
        }
      ]
    },
    {
      "cell_type": "code",
      "metadata": {
        "colab": {
          "base_uri": "https://localhost:8080/"
        },
        "id": "w11K7YzMr7UK",
        "outputId": "b4f447df-18e3-4ca1-cc66-c8627e2d83a2"
      },
      "source": [
        "#create a column diff of expected by company X and charges billed\n",
        "df_New['Difference Between Expected Charges and Billed Charges (Rs.)'] = df_New['Expected Charge as per X (Rs.)'] - df_New['Charges Billed by Courier Company (Rs.)'] "
      ],
      "execution_count": 16,
      "outputs": [
        {
          "output_type": "stream",
          "name": "stderr",
          "text": [
            "/usr/local/lib/python3.7/dist-packages/ipykernel_launcher.py:2: SettingWithCopyWarning: \n",
            "A value is trying to be set on a copy of a slice from a DataFrame.\n",
            "Try using .loc[row_indexer,col_indexer] = value instead\n",
            "\n",
            "See the caveats in the documentation: https://pandas.pydata.org/pandas-docs/stable/user_guide/indexing.html#returning-a-view-versus-a-copy\n",
            "  \n"
          ]
        }
      ]
    },
    {
      "cell_type": "code",
      "metadata": {
        "colab": {
          "base_uri": "https://localhost:8080/",
          "height": 510
        },
        "id": "1ofKSSgMs-fp",
        "outputId": "5e0fcd5e-5900-4a1a-9a63-d937a0e9983e"
      },
      "source": [
        "#convert to string and upper\n",
        "df_New['Delivery Zone as per X'] = df_New['Delivery Zone as per X'].str.upper()\n",
        "df_New['Delivery Zone charged by Courier Company'] = df_New['Delivery Zone charged by Courier Company'].str.upper()\n",
        "\n",
        "#df_New['Delivery Zone as per X'] = map(lambda x: x.upper(), df_New['Delivery Zone as per X'])\n",
        "#df_New['Delivery Zone charged by Courier Company'] = map(lambda x: x.upper(), df_New['Delivery Zone charged by Courier Company'])\n",
        "df_New.head()"
      ],
      "execution_count": 17,
      "outputs": [
        {
          "output_type": "stream",
          "name": "stderr",
          "text": [
            "/usr/local/lib/python3.7/dist-packages/ipykernel_launcher.py:2: SettingWithCopyWarning: \n",
            "A value is trying to be set on a copy of a slice from a DataFrame.\n",
            "Try using .loc[row_indexer,col_indexer] = value instead\n",
            "\n",
            "See the caveats in the documentation: https://pandas.pydata.org/pandas-docs/stable/user_guide/indexing.html#returning-a-view-versus-a-copy\n",
            "  \n",
            "/usr/local/lib/python3.7/dist-packages/ipykernel_launcher.py:3: SettingWithCopyWarning: \n",
            "A value is trying to be set on a copy of a slice from a DataFrame.\n",
            "Try using .loc[row_indexer,col_indexer] = value instead\n",
            "\n",
            "See the caveats in the documentation: https://pandas.pydata.org/pandas-docs/stable/user_guide/indexing.html#returning-a-view-versus-a-copy\n",
            "  This is separate from the ipykernel package so we can avoid doing imports until\n"
          ]
        },
        {
          "output_type": "execute_result",
          "data": {
            "text/html": [
              "<div>\n",
              "<style scoped>\n",
              "    .dataframe tbody tr th:only-of-type {\n",
              "        vertical-align: middle;\n",
              "    }\n",
              "\n",
              "    .dataframe tbody tr th {\n",
              "        vertical-align: top;\n",
              "    }\n",
              "\n",
              "    .dataframe thead th {\n",
              "        text-align: right;\n",
              "    }\n",
              "</style>\n",
              "<table border=\"1\" class=\"dataframe\">\n",
              "  <thead>\n",
              "    <tr style=\"text-align: right;\">\n",
              "      <th></th>\n",
              "      <th>Order ID</th>\n",
              "      <th>AWB Number</th>\n",
              "      <th>Total weight as per X (KG)</th>\n",
              "      <th>Weight slab as per X (KG)</th>\n",
              "      <th>Total weight as per Courier Company (KG)</th>\n",
              "      <th>Weight slab charged by Courier Company (KG)</th>\n",
              "      <th>Delivery Zone as per X</th>\n",
              "      <th>Delivery Zone charged by Courier Company</th>\n",
              "      <th>Expected Charge as per X (Rs.)</th>\n",
              "      <th>Charges Billed by Courier Company (Rs.)</th>\n",
              "      <th>Difference Between Expected Charges and Billed Charges (Rs.)</th>\n",
              "    </tr>\n",
              "  </thead>\n",
              "  <tbody>\n",
              "    <tr>\n",
              "      <th>0</th>\n",
              "      <td>2001806232</td>\n",
              "      <td>1091117222124</td>\n",
              "      <td>0.480</td>\n",
              "      <td>0.240</td>\n",
              "      <td>2.6</td>\n",
              "      <td>1.3</td>\n",
              "      <td>D</td>\n",
              "      <td>D</td>\n",
              "      <td>45.4</td>\n",
              "      <td>135.0</td>\n",
              "      <td>-89.6</td>\n",
              "    </tr>\n",
              "    <tr>\n",
              "      <th>1</th>\n",
              "      <td>2001806232</td>\n",
              "      <td>1091117222124</td>\n",
              "      <td>0.822</td>\n",
              "      <td>0.137</td>\n",
              "      <td>7.8</td>\n",
              "      <td>1.3</td>\n",
              "      <td>D</td>\n",
              "      <td>D</td>\n",
              "      <td>90.2</td>\n",
              "      <td>135.0</td>\n",
              "      <td>-44.8</td>\n",
              "    </tr>\n",
              "    <tr>\n",
              "      <th>2</th>\n",
              "      <td>2001806273</td>\n",
              "      <td>1091117222194</td>\n",
              "      <td>0.127</td>\n",
              "      <td>0.127</td>\n",
              "      <td>1.0</td>\n",
              "      <td>1.0</td>\n",
              "      <td>D</td>\n",
              "      <td>D</td>\n",
              "      <td>45.4</td>\n",
              "      <td>90.2</td>\n",
              "      <td>-44.8</td>\n",
              "    </tr>\n",
              "    <tr>\n",
              "      <th>3</th>\n",
              "      <td>2001806273</td>\n",
              "      <td>1091117222194</td>\n",
              "      <td>0.240</td>\n",
              "      <td>0.240</td>\n",
              "      <td>1.0</td>\n",
              "      <td>1.0</td>\n",
              "      <td>D</td>\n",
              "      <td>D</td>\n",
              "      <td>45.4</td>\n",
              "      <td>90.2</td>\n",
              "      <td>-44.8</td>\n",
              "    </tr>\n",
              "    <tr>\n",
              "      <th>4</th>\n",
              "      <td>2001806273</td>\n",
              "      <td>1091117222194</td>\n",
              "      <td>0.133</td>\n",
              "      <td>0.133</td>\n",
              "      <td>1.0</td>\n",
              "      <td>1.0</td>\n",
              "      <td>D</td>\n",
              "      <td>D</td>\n",
              "      <td>45.4</td>\n",
              "      <td>90.2</td>\n",
              "      <td>-44.8</td>\n",
              "    </tr>\n",
              "  </tbody>\n",
              "</table>\n",
              "</div>"
            ],
            "text/plain": [
              "     Order ID  ...  Difference Between Expected Charges and Billed Charges (Rs.)\n",
              "0  2001806232  ...                                              -89.6           \n",
              "1  2001806232  ...                                              -44.8           \n",
              "2  2001806273  ...                                              -44.8           \n",
              "3  2001806273  ...                                              -44.8           \n",
              "4  2001806273  ...                                              -44.8           \n",
              "\n",
              "[5 rows x 11 columns]"
            ]
          },
          "metadata": {},
          "execution_count": 17
        }
      ]
    },
    {
      "cell_type": "code",
      "metadata": {
        "id": "6YWX3Zyrt5f2"
      },
      "source": [
        "#Save to csv the result\n",
        "df_New.to_csv('Result.csv', index=False)"
      ],
      "execution_count": 18,
      "outputs": []
    },
    {
      "cell_type": "markdown",
      "metadata": {
        "id": "DomEl0FJLOTJ"
      },
      "source": [
        "Create 3 dataframes\n",
        "\n",
        "df_OO = same charge as expected by company X\n",
        "\n",
        "df_OC = over charged by courier\n",
        "\n",
        "df_UC = under charged by courier"
      ]
    },
    {
      "cell_type": "code",
      "metadata": {
        "id": "O2D8qTis1I2h"
      },
      "source": [
        "df_OO = df_New[df_New['Difference Between Expected Charges and Billed Charges (Rs.)']==0]\n",
        "df_OC = df_New[df_New['Difference Between Expected Charges and Billed Charges (Rs.)']<0]\n",
        "df_UC = df_New[df_New['Difference Between Expected Charges and Billed Charges (Rs.)']>0]"
      ],
      "execution_count": 19,
      "outputs": []
    },
    {
      "cell_type": "code",
      "metadata": {
        "colab": {
          "base_uri": "https://localhost:8080/"
        },
        "id": "zLfdw9YQ2GtW",
        "outputId": "d1d8cdd7-cf88-484e-9d89-59ec7e3c30ea"
      },
      "source": [
        "df_OC['Order ID'].nunique()"
      ],
      "execution_count": 20,
      "outputs": [
        {
          "output_type": "execute_result",
          "data": {
            "text/plain": [
              "116"
            ]
          },
          "metadata": {},
          "execution_count": 20
        }
      ]
    },
    {
      "cell_type": "code",
      "metadata": {
        "colab": {
          "base_uri": "https://localhost:8080/"
        },
        "id": "2OzbbTAc5NIe",
        "outputId": "73f1ad76-31e4-4dd9-fe01-bffed9a65737"
      },
      "source": [
        "df_OC['Difference Between Expected Charges and Billed Charges (Rs.)'].sum()"
      ],
      "execution_count": 21,
      "outputs": [
        {
          "output_type": "execute_result",
          "data": {
            "text/plain": [
              "-47140.7"
            ]
          },
          "metadata": {},
          "execution_count": 21
        }
      ]
    },
    {
      "cell_type": "code",
      "metadata": {
        "colab": {
          "base_uri": "https://localhost:8080/"
        },
        "id": "RsqUFzYv2K4i",
        "outputId": "497e2ead-385a-43b5-8677-ea92651f3dbd"
      },
      "source": [
        "df_OO['Order ID'].nunique()"
      ],
      "execution_count": 22,
      "outputs": [
        {
          "output_type": "execute_result",
          "data": {
            "text/plain": [
              "6"
            ]
          },
          "metadata": {},
          "execution_count": 22
        }
      ]
    },
    {
      "cell_type": "code",
      "metadata": {
        "colab": {
          "base_uri": "https://localhost:8080/"
        },
        "id": "hNCa4o4o5tDS",
        "outputId": "54c78a2a-3adf-43ac-eb1f-0076ab13b681"
      },
      "source": [
        "df_OO['Expected Charge as per X (Rs.)'].sum()"
      ],
      "execution_count": 23,
      "outputs": [
        {
          "output_type": "execute_result",
          "data": {
            "text/plain": [
              "606.5999999999999"
            ]
          },
          "metadata": {},
          "execution_count": 23
        }
      ]
    },
    {
      "cell_type": "code",
      "metadata": {
        "colab": {
          "base_uri": "https://localhost:8080/"
        },
        "id": "jZI0sr_Q2lau",
        "outputId": "c7795f2b-504a-43f7-9024-bc0e3272f48f"
      },
      "source": [
        "df_UC['Order ID'].nunique()"
      ],
      "execution_count": 24,
      "outputs": [
        {
          "output_type": "execute_result",
          "data": {
            "text/plain": [
              "2"
            ]
          },
          "metadata": {},
          "execution_count": 24
        }
      ]
    },
    {
      "cell_type": "code",
      "metadata": {
        "colab": {
          "base_uri": "https://localhost:8080/"
        },
        "id": "KOzNslAK5nTB",
        "outputId": "9af075c3-ee5b-4e0f-a439-2480938c3680"
      },
      "source": [
        "df_UC['Difference Between Expected Charges and Billed Charges (Rs.)'].sum()"
      ],
      "execution_count": 25,
      "outputs": [
        {
          "output_type": "execute_result",
          "data": {
            "text/plain": [
              "259.6"
            ]
          },
          "metadata": {},
          "execution_count": 25
        }
      ]
    },
    {
      "cell_type": "code",
      "metadata": {
        "colab": {
          "base_uri": "https://localhost:8080/"
        },
        "id": "DO9VehkO2oYX",
        "outputId": "e132ca51-888c-4470-f6df-bdffe073ceeb"
      },
      "source": [
        "dfc_Invoice['Order ID'].nunique()"
      ],
      "execution_count": 26,
      "outputs": [
        {
          "output_type": "execute_result",
          "data": {
            "text/plain": [
              "124"
            ]
          },
          "metadata": {},
          "execution_count": 26
        }
      ]
    }
  ]
}